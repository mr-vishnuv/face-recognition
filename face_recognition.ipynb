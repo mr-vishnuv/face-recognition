{
 "cells": [
  {
   "cell_type": "code",
   "execution_count": 3,
   "id": "974a3cbc",
   "metadata": {},
   "outputs": [
    {
     "name": "stdout",
     "output_type": "stream",
     "text": [
      "All libraries imported and configurations are set.\n"
     ]
    }
   ],
   "source": [
    "# Cell 1: Imports and Configuration\n",
    "import os\n",
    "import shutil\n",
    "import sys\n",
    "import cv2\n",
    "import itertools\n",
    "import numpy as np\n",
    "import matplotlib.pyplot as plt\n",
    "from PIL import Image\n",
    "\n",
    "import torch\n",
    "import torch.nn as nn\n",
    "import torch.optim as optim\n",
    "from torch.utils.data import DataLoader, Dataset\n",
    "from torchvision import transforms\n",
    "\n",
    "from sklearn.model_selection import train_test_split\n",
    "from sklearn.metrics import roc_curve, auc\n",
    "import insightface\n",
    "from insightface.app import FaceAnalysis\n",
    "from insightface.model_zoo import get_model\n",
    "\n",
    "# --- Configuration ---\n",
    "SOURCE_ROOT = \"dataset/images\"\n",
    "DEST_DIR = \"processed_dataset\"\n",
    "TRAIN_DIR = os.path.join(DEST_DIR, \"train\")\n",
    "EVAL_DIR = os.path.join(DEST_DIR, \"eval\")\n",
    "SPLIT_RATIO = 0.8\n",
    "FINETUNED_MODEL_PATH = \"finetuned_model.pth\"\n",
    "\n",
    "# Hyperparameters\n",
    "NUM_EPOCHS = 15\n",
    "LEARNING_RATE = 0.001\n",
    "BATCH_SIZE = 32\n",
    "\n",
    "print(\"All libraries imported and configurations are set.\")"
   ]
  },
  {
   "cell_type": "code",
   "execution_count": 4,
   "id": "a19c3953",
   "metadata": {},
   "outputs": [
    {
     "name": "stdout",
     "output_type": "stream",
     "text": [
      "Python Version: 3.10.0 (tags/v3.10.0:b494f59, Oct  4 2021, 19:00:18) [MSC v.1929 64 bit (AMD64)]\n",
      "PyTorch Version: 2.5.1+cu121\n",
      "------------------------------\n",
      "CUDA Available: True\n",
      "GPU Device: NVIDIA GeForce RTX 3050 Laptop GPU\n"
     ]
    }
   ],
   "source": [
    "# Cell 2: Crucial - Environment Verification\n",
    "print(f\"Python Version: {sys.version}\")\n",
    "print(f\"PyTorch Version: {torch.__version__}\")\n",
    "print(\"-\" * 30)\n",
    "is_cuda_available = torch.cuda.is_available()\n",
    "print(f\"CUDA Available: {is_cuda_available}\")\n",
    "\n",
    "if is_cuda_available:\n",
    "    print(f\"GPU Device: {torch.cuda.get_device_name(0)}\")\n",
    "else:\n",
    "    print(\"WARNING: CUDA is not available. The script will run on the CPU, which will be very slow.\")\n",
    "\n",
    "# This MUST print True before you continue.\n",
    "# If it prints False, stop and fix your PyTorch installation."
   ]
  },
  {
   "cell_type": "code",
   "execution_count": 5,
   "id": "ec1ca55e",
   "metadata": {},
   "outputs": [
    {
     "name": "stdout",
     "output_type": "stream",
     "text": [
      "'processed_dataset' already exists. Skipping dataset preparation.\n"
     ]
    }
   ],
   "source": [
    "# Cell 3: Dataset Preparation\n",
    "# (This code is from prepare_dataset.py)\n",
    "\n",
    "if os.path.exists(DEST_DIR):\n",
    "    print(f\"'{DEST_DIR}' already exists. Skipping dataset preparation.\")\n",
    "else:\n",
    "    print(\"Starting dataset preparation...\")\n",
    "    os.makedirs(TRAIN_DIR, exist_ok=True)\n",
    "    os.makedirs(EVAL_DIR, exist_ok=True)\n",
    "    \n",
    "    for person_name in os.listdir(SOURCE_ROOT):\n",
    "        person_source_path = os.path.join(SOURCE_ROOT, person_name)\n",
    "        if not os.path.isdir(person_source_path): continue\n",
    "        all_person_images = []\n",
    "        for quality_folder in os.listdir(person_source_path):\n",
    "            quality_path = os.path.join(person_source_path, quality_folder)\n",
    "            if os.path.isdir(quality_path):\n",
    "                for img_name in os.listdir(quality_path):\n",
    "                    if img_name.lower().endswith(('.png', '.jpg', '.jpeg')):\n",
    "                        all_person_images.append(os.path.join(quality_path, img_name))\n",
    "        if not all_person_images: continue\n",
    "        train_files, eval_files = train_test_split(all_person_images, train_size=SPLIT_RATIO, random_state=42)\n",
    "        person_train_path = os.path.join(TRAIN_DIR, person_name)\n",
    "        person_eval_path = os.path.join(EVAL_DIR, person_name)\n",
    "        os.makedirs(person_train_path, exist_ok=True)\n",
    "        os.makedirs(person_eval_path, exist_ok=True)\n",
    "        for f in train_files: shutil.copy(f, person_train_path)\n",
    "        for f in eval_files: shutil.copy(f, person_eval_path)\n",
    "    print(f\"✅ Dataset splitting complete! Output is in '{DEST_DIR}'\")"
   ]
  },
  {
   "cell_type": "code",
   "execution_count": 6,
   "id": "8c80b186",
   "metadata": {},
   "outputs": [
    {
     "name": "stdout",
     "output_type": "stream",
     "text": [
      "✅ Helper functions are defined.\n"
     ]
    }
   ],
   "source": [
    "# Cell 4: Helper Functions\n",
    "\n",
    "# --- Evaluation & Plotting ---\n",
    "def run_evaluation(model_app, eval_dir, embedding_function):\n",
    "    print(f\"Running evaluation on folder: {eval_dir}\")\n",
    "    filepaths, labels = [], []\n",
    "    for person_name in sorted(os.listdir(eval_dir)):\n",
    "        person_path = os.path.join(eval_dir, person_name)\n",
    "        if not os.path.isdir(person_path): continue\n",
    "        for img_name in os.listdir(person_path):\n",
    "            filepaths.append(os.path.join(person_path, img_name))\n",
    "            labels.append(person_name)\n",
    "\n",
    "    embeddings = [embedding_function(model_app, fp) for fp in filepaths]\n",
    "    valid_indices = [i for i, emb in enumerate(embeddings) if emb is not None]\n",
    "    embeddings = [embeddings[i] for i in valid_indices]\n",
    "    labels = [labels[i] for i in valid_indices]\n",
    "    \n",
    "    y_true, y_score = [], []\n",
    "    for i, j in itertools.combinations(range(len(labels)), 2):\n",
    "        similarity = np.dot(embeddings[i], embeddings[j])\n",
    "        y_score.append(similarity)\n",
    "        y_true.append(1 if labels[i] == labels[j] else 0)\n",
    "    return np.array(y_true), np.array(y_score)\n",
    "\n",
    "def get_embedding_pretrained(model_app, image_path):\n",
    "    img = cv2.imread(image_path)\n",
    "    if img is None: return None\n",
    "    faces = model_app.get(img)\n",
    "    return faces[0].normed_embedding if len(faces) > 0 else None\n",
    "\n",
    "def plot_roc_curve(y_true, y_score, title):\n",
    "    fpr, tpr, _ = roc_curve(y_true, y_score)\n",
    "    roc_auc = auc(fpr, tpr)\n",
    "    plt.figure(figsize=(8, 6))\n",
    "    plt.plot(fpr, tpr, color='darkorange', lw=2, label=f'ROC curve (AUC = {roc_auc:.3f})')\n",
    "    plt.plot([0, 1], [0, 1], color='navy', lw=2, linestyle='--')\n",
    "    plt.title(title)\n",
    "    plt.legend(loc=\"lower right\")\n",
    "    plt.grid(True)\n",
    "    plt.show()\n",
    "\n",
    "# --- Fine-Tuning ---\n",
    "class FaceDataset(Dataset):\n",
    "    def __init__(self, root_dir, transform=None):\n",
    "        self.root_dir = root_dir\n",
    "        self.transform = transform\n",
    "        self.image_paths, self.labels = [], []\n",
    "        self.class_to_idx = {}\n",
    "        for idx, person_name in enumerate(sorted(os.listdir(root_dir))):\n",
    "            person_path = os.path.join(root_dir, person_name)\n",
    "            if not os.path.isdir(person_path): continue\n",
    "            self.class_to_idx[person_name] = idx\n",
    "            for img_name in os.listdir(person_path):\n",
    "                self.image_paths.append(os.path.join(person_path, img_name))\n",
    "                self.labels.append(idx)\n",
    "    def __len__(self): return len(self.image_paths)\n",
    "    def __getitem__(self, idx):\n",
    "        img_path = self.image_paths[idx]\n",
    "        image = Image.open(img_path).convert(\"RGB\")\n",
    "        label = self.labels[idx]\n",
    "        if self.transform: image = self.transform(image)\n",
    "        return image, label\n",
    "\n",
    "print(\"✅ Helper functions are defined.\")"
   ]
  },
  {
   "cell_type": "code",
   "execution_count": 7,
   "id": "3d99a4ff",
   "metadata": {},
   "outputs": [
    {
     "name": "stdout",
     "output_type": "stream",
     "text": [
      "--- Starting Baseline Evaluation ---\n"
     ]
    },
    {
     "name": "stderr",
     "output_type": "stream",
     "text": [
      "c:\\Users\\vishn\\AppData\\Local\\Programs\\Python\\Python310\\lib\\site-packages\\onnxruntime\\capi\\onnxruntime_inference_collection.py:121: UserWarning: Specified provider 'CUDAExecutionProvider' is not in available provider names.Available providers: 'AzureExecutionProvider, CPUExecutionProvider'\n",
      "  warnings.warn(\n"
     ]
    },
    {
     "name": "stdout",
     "output_type": "stream",
     "text": [
      "Applied providers: ['CPUExecutionProvider'], with options: {'CPUExecutionProvider': {}}\n",
      "find model: C:\\Users\\vishn/.insightface\\models\\buffalo_l\\1k3d68.onnx landmark_3d_68 ['None', 3, 192, 192] 0.0 1.0\n",
      "Applied providers: ['CPUExecutionProvider'], with options: {'CPUExecutionProvider': {}}\n",
      "find model: C:\\Users\\vishn/.insightface\\models\\buffalo_l\\2d106det.onnx landmark_2d_106 ['None', 3, 192, 192] 0.0 1.0\n",
      "Applied providers: ['CPUExecutionProvider'], with options: {'CPUExecutionProvider': {}}\n",
      "find model: C:\\Users\\vishn/.insightface\\models\\buffalo_l\\det_10g.onnx detection [1, 3, '?', '?'] 127.5 128.0\n",
      "Applied providers: ['CPUExecutionProvider'], with options: {'CPUExecutionProvider': {}}\n",
      "find model: C:\\Users\\vishn/.insightface\\models\\buffalo_l\\genderage.onnx genderage ['None', 3, 96, 96] 0.0 1.0\n",
      "Applied providers: ['CPUExecutionProvider'], with options: {'CPUExecutionProvider': {}}\n",
      "find model: C:\\Users\\vishn/.insightface\\models\\buffalo_l\\w600k_r50.onnx recognition ['None', 3, 112, 112] 127.5 127.5\n",
      "set det-size: (640, 640)\n",
      "Running evaluation on folder: processed_dataset\\eval\n"
     ]
    },
    {
     "data": {
      "image/png": "[encoded data removed]",
      "text/plain": [
       "<Figure size 800x600 with 1 Axes>"
      ]
     },
     "metadata": {},
     "output_type": "display_data"
    }
   ],
   "source": [
    "# Cell 5: Step 1 - Baseline Evaluation\n",
    "print(\"--- Starting Baseline Evaluation ---\")\n",
    "pretrained_model = FaceAnalysis(name='buffalo_l')\n",
    "pretrained_model.prepare(ctx_id=0, det_size=(640, 640))\n",
    "\n",
    "y_true_base, y_score_base = run_evaluation(\n",
    "    model_app=pretrained_model,\n",
    "    eval_dir=EVAL_DIR,\n",
    "    embedding_function=get_embedding_pretrained\n",
    ")\n",
    "\n",
    "plot_roc_curve(y_true_base, y_score_base, title='Baseline ROC Curve')"
   ]
  },
  {
   "cell_type": "code",
   "execution_count": 8,
   "id": "13552187",
   "metadata": {},
   "outputs": [
    {
     "name": "stdout",
     "output_type": "stream",
     "text": [
      "Verifying images in: processed_dataset\\train\n",
      "Verifying images in: processed_dataset\\eval\n",
      "\n",
      "✅ All images seem to be valid!\n"
     ]
    }
   ],
   "source": [
    "# New Cell: Verify and Clean Image Data\n",
    "import os\n",
    "from PIL import Image\n",
    "\n",
    "def find_bad_images(root_dir):\n",
    "    bad_files = []\n",
    "    print(f\"Verifying images in: {root_dir}\")\n",
    "    for dirpath, _, filenames in os.walk(root_dir):\n",
    "        for filename in filenames:\n",
    "            if filename.lower().endswith(('.png', '.jpg', '.jpeg', '.bmp')):\n",
    "                filepath = os.path.join(dirpath, filename)\n",
    "                try:\n",
    "                    with Image.open(filepath) as img:\n",
    "                        img.verify()  # This checks for file integrity\n",
    "                except Exception as e:\n",
    "                    print(f\"Found bad file: {filepath} | Reason: {e}\")\n",
    "                    bad_files.append(filepath)\n",
    "    return bad_files\n",
    "\n",
    "# Find all corrupted images\n",
    "bad_train_files = find_bad_images(TRAIN_DIR)\n",
    "bad_eval_files = find_bad_images(EVAL_DIR)\n",
    "all_bad_files = bad_train_files + bad_eval_files\n",
    "\n",
    "if not all_bad_files:\n",
    "    print(\"\\n✅ All images seem to be valid!\")\n",
    "else:\n",
    "    print(f\"\\nFound {len(all_bad_files)} bad files.\")\n",
    "\n",
    "    # --- UNCOMMENT THE LINES BELOW TO DELETE ALL BAD FILES ---\n",
    "    print(\"Deleting bad files...\")\n",
    "    for f in all_bad_files:\n",
    "         os.remove(f)\n",
    "    print(\"✅ Deletion complete.\")"
   ]
  },
  {
   "cell_type": "code",
   "execution_count": 9,
   "id": "ea9e2e30",
   "metadata": {},
   "outputs": [
    {
     "name": "stdout",
     "output_type": "stream",
     "text": [
      "\n",
      "--- Starting Model Fine-Tuning ---\n",
      "Using device: cuda\n",
      "Found 8 identities for training.\n"
     ]
    },
    {
     "name": "stderr",
     "output_type": "stream",
     "text": [
      "c:\\Users\\vishn\\AppData\\Local\\Programs\\Python\\Python310\\lib\\site-packages\\torchvision\\models\\_utils.py:208: UserWarning: The parameter 'pretrained' is deprecated since 0.13 and may be removed in the future, please use 'weights' instead.\n",
      "  warnings.warn(\n",
      "c:\\Users\\vishn\\AppData\\Local\\Programs\\Python\\Python310\\lib\\site-packages\\torchvision\\models\\_utils.py:223: UserWarning: Arguments other than a weight enum or `None` for 'weights' are deprecated since 0.13 and may be removed in the future. The current behavior is equivalent to passing `weights=ResNet50_Weights.IMAGENET1K_V1`. You can also use `weights=ResNet50_Weights.DEFAULT` to get the most up-to-date weights.\n",
      "  warnings.warn(msg)\n"
     ]
    },
    {
     "name": "stdout",
     "output_type": "stream",
     "text": [
      "Epoch [1/15], Loss: 0.6736\n",
      "Epoch [2/15], Loss: 0.3274\n",
      "Epoch [3/15], Loss: 0.2533\n",
      "Epoch [4/15], Loss: 0.2112\n",
      "Epoch [5/15], Loss: 0.1674\n",
      "Epoch [6/15], Loss: 0.1476\n",
      "Epoch [7/15], Loss: 0.1324\n",
      "Epoch [8/15], Loss: 0.1111\n",
      "Epoch [9/15], Loss: 0.1016\n",
      "Epoch [10/15], Loss: 0.0864\n",
      "Epoch [11/15], Loss: 0.0820\n",
      "Epoch [12/15], Loss: 0.0725\n",
      "Epoch [13/15], Loss: 0.0679\n",
      "Epoch [14/15], Loss: 0.0577\n",
      "Epoch [15/15], Loss: 0.0537\n",
      "✅ Fine-tuning complete. Model saved to finetuned_model.pth\n"
     ]
    }
   ],
   "source": [
    "# Cell 6: Step 2 - Model Fine-Tuning\n",
    "print(\"\\n--- Starting Model Fine-Tuning ---\")\n",
    "device = torch.device(\"cuda\" if torch.cuda.is_available() else \"cpu\")\n",
    "print(f\"Using device: {device}\")\n",
    "\n",
    "# IMPORTANT: Before running this cell, make sure you've cleared the cache\n",
    "# by deleting the C:\\Users\\vishn\\.insightface\\models\\ folder\n",
    "# This will force a fresh download of the 'r50' model.\n",
    "\n",
    "transform = transforms.Compose([\n",
    "    transforms.Resize((112, 112)),\n",
    "    transforms.RandomHorizontalFlip(),\n",
    "    transforms.ToTensor(),\n",
    "    transforms.Normalize(mean=[0.5, 0.5, 0.5], std=[0.5, 0.5, 0.5]),\n",
    "])\n",
    "\n",
    "train_dataset = FaceDataset(root_dir=TRAIN_DIR, transform=transform)\n",
    "train_loader = DataLoader(train_dataset, batch_size=BATCH_SIZE, shuffle=True)\n",
    "num_classes = len(train_dataset.class_to_idx)\n",
    "print(f\"Found {num_classes} identities for training.\")\n",
    "\n",
    "# Load a pre-trained backbone (PyTorch ResNet50)\n",
    "from torchvision.models import resnet50\n",
    "\n",
    "model = resnet50(pretrained=True)\n",
    "embedding_size = model.fc.in_features\n",
    "model.fc = nn.Linear(embedding_size, num_classes)\n",
    "model = model.to(device)\n",
    "\n",
    "criterion = nn.CrossEntropyLoss()\n",
    "optimizer = optim.Adam(model.parameters(), lr=LEARNING_RATE)\n",
    "\n",
    "for epoch in range(NUM_EPOCHS):\n",
    "    model.train()\n",
    "    running_loss = 0.0\n",
    "    for images, labels in train_loader:\n",
    "        images, labels = images.to(device), labels.to(device)\n",
    "        optimizer.zero_grad()\n",
    "        outputs = model(images)\n",
    "        loss = criterion(outputs, labels)\n",
    "        loss.backward()\n",
    "        optimizer.step()\n",
    "        running_loss += loss.item() * images.size(0)\n",
    "    epoch_loss = running_loss / len(train_dataset)\n",
    "    print(f\"Epoch [{epoch+1}/{NUM_EPOCHS}], Loss: {epoch_loss:.4f}\")\n",
    "\n",
    "torch.save(model.state_dict(), FINETUNED_MODEL_PATH)\n",
    "print(f\"✅ Fine-tuning complete. Model saved to {FINETUNED_MODEL_PATH}\")"
   ]
  },
  {
   "cell_type": "code",
   "execution_count": 10,
   "id": "0ab46a23",
   "metadata": {},
   "outputs": [
    {
     "name": "stdout",
     "output_type": "stream",
     "text": [
      "--- Starting Re-evaluation of Fine-Tuned Model ---\n",
      "Loading fine-tuned model from: finetuned_model.pth\n"
     ]
    },
    {
     "name": "stderr",
     "output_type": "stream",
     "text": [
      "c:\\Users\\vishn\\AppData\\Local\\Programs\\Python\\Python310\\lib\\site-packages\\torchvision\\models\\_utils.py:223: UserWarning: Arguments other than a weight enum or `None` for 'weights' are deprecated since 0.13 and may be removed in the future. The current behavior is equivalent to passing `weights=None`.\n",
      "  warnings.warn(msg)\n",
      "C:\\Users\\vishn\\AppData\\Local\\Temp\\ipykernel_29228\\186425345.py:12: FutureWarning: You are using `torch.load` with `weights_only=False` (the current default value), which uses the default pickle module implicitly. It is possible to construct malicious pickle data which will execute arbitrary code during unpickling (See https://github.com/pytorch/pytorch/blob/main/SECURITY.md#untrusted-models for more details). In a future release, the default value for `weights_only` will be flipped to `True`. This limits the functions that could be executed during unpickling. Arbitrary objects will no longer be allowed to be loaded via this mode unless they are explicitly allowlisted by the user via `torch.serialization.add_safe_globals`. We recommend you start setting `weights_only=True` for any use case where you don't have full control of the loaded file. Please open an issue on GitHub for any issues related to this experimental feature.\n",
      "  model.load_state_dict(torch.load(model_path, map_location=device))\n"
     ]
    },
    {
     "name": "stdout",
     "output_type": "stream",
     "text": [
      "Running evaluation on folder: processed_dataset\\eval\n"
     ]
    },
    {
     "data": {
      "image/png": "[encoded data removed]",
      "text/plain": [
       "<Figure size 800x600 with 1 Axes>"
      ]
     },
     "metadata": {},
     "output_type": "display_data"
    }
   ],
   "source": [
    "# Cell 7: Step 3 - Re-evaluation of Fine-Tuned Model\n",
    "print(\"--- Starting Re-evaluation of Fine-Tuned Model ---\")\n",
    "device = torch.device(\"cuda\" if torch.cuda.is_available() else \"cpu\")\n",
    "\n",
    "# --- Helper functions to load the fine-tuned model and get embeddings ---\n",
    "def load_finetuned_model(model_path, num_classes, embedding_size):\n",
    "    \"\"\"Loads the fine-tuned PyTorch model backbone for embedding extraction.\"\"\"\n",
    "    print(f\"Loading fine-tuned model from: {model_path}\")\n",
    "    from torchvision.models import resnet50\n",
    "    model = resnet50(pretrained=False)\n",
    "    model.fc = nn.Linear(embedding_size, num_classes)\n",
    "    model.load_state_dict(torch.load(model_path, map_location=device))\n",
    "    # We want the features before the final classification layer\n",
    "    model.fc = nn.Identity()\n",
    "    model.to(device)\n",
    "    model.eval()\n",
    "    return model\n",
    "\n",
    "def get_embedding_finetuned(model, image_path):\n",
    "    \"\"\"Extracts an embedding using the fine-tuned PyTorch model.\"\"\"\n",
    "    transform = transforms.Compose([\n",
    "        transforms.Resize((112, 112)),\n",
    "        transforms.ToTensor(),\n",
    "        transforms.Normalize(mean=[0.5, 0.5, 0.5], std=[0.5, 0.5, 0.5]),\n",
    "    ])\n",
    "    try:\n",
    "        img = Image.open(image_path).convert(\"RGB\")\n",
    "        img_tensor = transform(img).unsqueeze(0).to(device)\n",
    "        with torch.no_grad():\n",
    "            embedding = model(img_tensor).cpu().numpy().flatten()\n",
    "            norm = np.linalg.norm(embedding)\n",
    "            return embedding / norm\n",
    "    except Exception:\n",
    "        return None\n",
    "\n",
    "# --- Run the evaluation ---\n",
    "# Note: num_classes and embedding_size are variables from the previous cell (Cell 6)\n",
    "finetuned_backbone = load_finetuned_model(FINETUNED_MODEL_PATH, num_classes, embedding_size)\n",
    "\n",
    "y_true_ft, y_score_ft = run_evaluation(\n",
    "    model_app=finetuned_backbone,\n",
    "    eval_dir=EVAL_DIR,\n",
    "    embedding_function=get_embedding_finetuned\n",
    ")\n",
    "\n",
    "plot_roc_curve(y_true_ft, y_score_ft, title='Fine-Tuned ROC Curve')\n",
    "\n"
   ]
  },
  {
   "cell_type": "code",
   "execution_count": 11,
   "id": "e666367e",
   "metadata": {},
   "outputs": [
    {
     "name": "stdout",
     "output_type": "stream",
     "text": [
      "The notebook's current working directory is: d:\\face_recognition\n"
     ]
    }
   ],
   "source": [
    "# New Cell: Check Working Directory\n",
    "import os\n",
    "print(f\"The notebook's current working directory is: {os.getcwd()}\")"
   ]
  },
  {
   "cell_type": "code",
   "execution_count": 12,
   "id": "8ca88bfe",
   "metadata": {},
   "outputs": [
    {
     "name": "stdout",
     "output_type": "stream",
     "text": [
      "Searching for a pair of images that shows clear improvement...\n",
      "\n",
      "✅ Found a great example for Figure 3!\n",
      "Image 1 Path: processed_dataset\\eval\\Firoz\\a (105).png\n",
      "Image 2 Path: processed_dataset\\eval\\Firoz\\a (136).png\n",
      "Baseline Score (failed): 0.393\n",
      "Fine-Tuned Score (succeeded): 0.967\n"
     ]
    }
   ],
   "source": [
    "# New Cell: Find a Good Example for Figure 3\n",
    "\n",
    "# First, we need to regenerate the list of file paths from the evaluation set\n",
    "# This must match the order used during the evaluation runs\n",
    "eval_filepaths = []\n",
    "for person_name in sorted(os.listdir(EVAL_DIR)):\n",
    "    person_path = os.path.join(EVAL_DIR, person_name)\n",
    "    if not os.path.isdir(person_path): continue\n",
    "    for img_name in os.listdir(person_path):\n",
    "        eval_filepaths.append(os.path.join(person_path, img_name))\n",
    "\n",
    "# Now, we search through the results to find a pair that improved significantly\n",
    "print(\"Searching for a pair of images that shows clear improvement...\")\n",
    "found_example = False\n",
    "pair_indices = list(itertools.combinations(range(len(eval_filepaths)), 2))\n",
    "\n",
    "for i in range(len(y_true_base)): # y_true_base has the same length as the number of pairs\n",
    "    # Condition 1: It must be a pair of images of the same person\n",
    "    if y_true_base[i] == 1:\n",
    "        \n",
    "        # Condition 2: The baseline model failed (score is low)\n",
    "        baseline_failed = y_score_base[i] < 0.4 \n",
    "        \n",
    "        # Condition 3: The fine-tuned model succeeded (score is high)\n",
    "        finetuned_succeeded = y_score_ft[i] > 0.6\n",
    "        \n",
    "        if baseline_failed and finetuned_succeeded:\n",
    "            pair_index = pair_indices[i]\n",
    "            image1_path = eval_filepaths[pair_index[0]]\n",
    "            image2_path = eval_filepaths[pair_index[1]]\n",
    "            \n",
    "            print(\"\\n✅ Found a great example for Figure 3!\")\n",
    "            print(f\"Image 1 Path: {image1_path}\")\n",
    "            print(f\"Image 2 Path: {image2_path}\")\n",
    "            print(f\"Baseline Score (failed): {y_score_base[i]:.3f}\")\n",
    "            print(f\"Fine-Tuned Score (succeeded): {y_score_ft[i]:.3f}\")\n",
    "            \n",
    "            found_example = True\n",
    "            break # Stop after finding the first good example\n",
    "\n",
    "if not found_example:\n",
    "    print(\"\\nCould not find a perfect example with the current thresholds. Try adjusting the score values (e.g., < 0.5 and > 0.5).\")"
   ]
  }
 ],
 "metadata": {
  "kernelspec": {
   "display_name": "Python 3",
   "language": "python",
   "name": "python3"
  },
  "language_info": {
   "codemirror_mode": {
    "name": "ipython",
    "version": 3
   },
   "file_extension": ".py",
   "mimetype": "text/x-python",
   "name": "python",
   "nbconvert_exporter": "python",
   "pygments_lexer": "ipython3",
   "version": "3.10.0"
  }
 },
 "nbformat": 4,
 "nbformat_minor": 5
}
